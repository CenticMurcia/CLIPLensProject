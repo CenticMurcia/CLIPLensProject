{
 "cells": [
  {
   "cell_type": "code",
   "execution_count": 1,
   "metadata": {},
   "outputs": [],
   "source": [
    "import torch\n",
    "# import clip\n",
    "from PIL import Image\n",
    "import os\n",
    "import matplotlib.pyplot as plt\n",
    "import numpy as np\n",
    "from torchmetrics.functional.multimodal import clip_score\n",
    "from functools import partial"
   ]
  },
  {
   "cell_type": "markdown",
   "metadata": {},
   "source": [
    "# CLIP Score (https://huggingface.co/docs/diffusers/conceptual/evaluation)"
   ]
  },
  {
   "cell_type": "code",
   "execution_count": 2,
   "metadata": {},
   "outputs": [],
   "source": [
    "def calculate_clip_score(images, prompts):\n",
    "    images_int = (images * 255).astype(\"uint8\")\n",
    "    clip_score = clip_score_fn(torch.from_numpy(images_int).permute(0, 3, 1, 2), prompts).detach()\n",
    "    return round(float(clip_score), 4)"
   ]
  },
  {
   "cell_type": "markdown",
   "metadata": {},
   "source": [
    "# Clothes"
   ]
  },
  {
   "cell_type": "markdown",
   "metadata": {},
   "source": [
    "## Stable Diffusion 1.5"
   ]
  },
  {
   "cell_type": "markdown",
   "metadata": {},
   "source": [
    "### Sweatshirt"
   ]
  },
  {
   "cell_type": "code",
   "execution_count": 2,
   "metadata": {},
   "outputs": [],
   "source": [
    "path = \"imagesCLIP/ropa/sweatshirt\"\n",
    "sweatshirt_images = [f for f in os.listdir(path) if os.path.isfile(os.path.join(path, f))]"
   ]
  },
  {
   "cell_type": "code",
   "execution_count": 4,
   "metadata": {},
   "outputs": [],
   "source": [
    "listPrompts, listImages = [], []\n",
    "\n",
    "for i in sweatshirt_images:\n",
    "    listPrompts.append(i)\n",
    "    image = Image.open(path + '/' + i)\n",
    "    listImages.append(image)\n",
    "\n",
    "listImages = np.array(listImages)\n",
    "\n",
    "clip_score_fn = partial(clip_score, model_name_or_path=\"openai/clip-vit-base-patch16\")\n",
    "\n",
    "sd_clip_score = calculate_clip_score(listImages, listPrompts)\n",
    "print(f\"CLIP score: {sd_clip_score}\")"
   ]
  },
  {
   "cell_type": "code",
   "execution_count": null,
   "metadata": {},
   "outputs": [],
   "source": []
  },
  {
   "cell_type": "markdown",
   "metadata": {},
   "source": [
    "### T-shirt"
   ]
  },
  {
   "cell_type": "code",
   "execution_count": 7,
   "metadata": {},
   "outputs": [],
   "source": [
    "path = \"imagesCLIP/ropa/t-shirt\"\n",
    "tshirt_images = [f for f in os.listdir(path) if os.path.isfile(os.path.join(path, f))]"
   ]
  },
  {
   "cell_type": "code",
   "execution_count": 8,
   "metadata": {},
   "outputs": [
    {
     "name": "stdout",
     "output_type": "stream",
     "text": [
      "CLIP score: 28.2173\n"
     ]
    }
   ],
   "source": [
    "listPrompts, listImages = [], []\n",
    "\n",
    "for i in tshirt_images:\n",
    "    listPrompts.append(i)\n",
    "    image = Image.open(path + '/' + i)\n",
    "    listImages.append(image)\n",
    "\n",
    "listImages = np.array(listImages)\n",
    "\n",
    "clip_score_fn = partial(clip_score, model_name_or_path=\"openai/clip-vit-base-patch16\")\n",
    "\n",
    "sd_clip_score = calculate_clip_score(listImages, listPrompts)\n",
    "print(f\"CLIP score: {sd_clip_score}\")"
   ]
  },
  {
   "cell_type": "markdown",
   "metadata": {},
   "source": [
    "### Top"
   ]
  },
  {
   "cell_type": "code",
   "execution_count": 9,
   "metadata": {},
   "outputs": [],
   "source": [
    "path = \"imagesCLIP/ropa/top\"\n",
    "top_images = [f for f in os.listdir(path) if os.path.isfile(os.path.join(path, f))]"
   ]
  },
  {
   "cell_type": "code",
   "execution_count": 10,
   "metadata": {},
   "outputs": [
    {
     "name": "stdout",
     "output_type": "stream",
     "text": [
      "CLIP score: 27.6803\n"
     ]
    }
   ],
   "source": [
    "listPrompts, listImages = [], []\n",
    "\n",
    "for i in top_images:\n",
    "    listPrompts.append(i)\n",
    "    image = Image.open(path + '/' + i)\n",
    "    listImages.append(image)\n",
    "\n",
    "listImages = np.array(listImages)\n",
    "\n",
    "clip_score_fn = partial(clip_score, model_name_or_path=\"openai/clip-vit-base-patch16\")\n",
    "\n",
    "sd_clip_score = calculate_clip_score(listImages, listPrompts)\n",
    "print(f\"CLIP score: {sd_clip_score}\")"
   ]
  },
  {
   "cell_type": "markdown",
   "metadata": {},
   "source": [
    "## Stable Diffusion 2.1"
   ]
  },
  {
   "cell_type": "markdown",
   "metadata": {},
   "source": [
    "### Sweatshirt"
   ]
  },
  {
   "cell_type": "code",
   "execution_count": 11,
   "metadata": {},
   "outputs": [],
   "source": [
    "path = \"imagesCLIP/ropa/SD-2-1/sweatshirt\"\n",
    "sweatshirt_images = [f for f in os.listdir(path) if os.path.isfile(os.path.join(path, f))]"
   ]
  },
  {
   "cell_type": "code",
   "execution_count": 12,
   "metadata": {},
   "outputs": [
    {
     "name": "stdout",
     "output_type": "stream",
     "text": [
      "CLIP score: 32.3685\n"
     ]
    }
   ],
   "source": [
    "listPrompts, listImages = [], []\n",
    "\n",
    "for i in sweatshirt_images:\n",
    "    listPrompts.append(i)\n",
    "    image = Image.open(path + '/' + i)\n",
    "    listImages.append(image)\n",
    "\n",
    "listImages = np.array(listImages)\n",
    "\n",
    "clip_score_fn = partial(clip_score, model_name_or_path=\"openai/clip-vit-base-patch16\")\n",
    "\n",
    "sd_clip_score = calculate_clip_score(listImages, listPrompts)\n",
    "print(f\"CLIP score: {sd_clip_score}\")"
   ]
  },
  {
   "cell_type": "markdown",
   "metadata": {},
   "source": [
    "### T-shirt"
   ]
  },
  {
   "cell_type": "code",
   "execution_count": 13,
   "metadata": {},
   "outputs": [],
   "source": [
    "path = \"imagesCLIP/ropa/SD-2-1/t-shirt\"\n",
    "tshirt_images = [f for f in os.listdir(path) if os.path.isfile(os.path.join(path, f))]"
   ]
  },
  {
   "cell_type": "code",
   "execution_count": 14,
   "metadata": {},
   "outputs": [
    {
     "name": "stdout",
     "output_type": "stream",
     "text": [
      "CLIP score: 30.4967\n"
     ]
    }
   ],
   "source": [
    "listPrompts, listImages = [], []\n",
    "\n",
    "for i in tshirt_images:\n",
    "    listPrompts.append(i)\n",
    "    image = Image.open(path + '/' + i)\n",
    "    listImages.append(image)\n",
    "\n",
    "listImages = np.array(listImages)\n",
    "\n",
    "clip_score_fn = partial(clip_score, model_name_or_path=\"openai/clip-vit-base-patch16\")\n",
    "\n",
    "sd_clip_score = calculate_clip_score(listImages, listPrompts)\n",
    "print(f\"CLIP score: {sd_clip_score}\")"
   ]
  },
  {
   "cell_type": "markdown",
   "metadata": {},
   "source": [
    "### Top"
   ]
  },
  {
   "cell_type": "code",
   "execution_count": 15,
   "metadata": {},
   "outputs": [],
   "source": [
    "path = \"imagesCLIP/ropa/SD-2-1/top\"\n",
    "top_images = [f for f in os.listdir(path) if os.path.isfile(os.path.join(path, f))]"
   ]
  },
  {
   "cell_type": "code",
   "execution_count": 16,
   "metadata": {},
   "outputs": [
    {
     "name": "stdout",
     "output_type": "stream",
     "text": [
      "CLIP score: 30.101\n"
     ]
    }
   ],
   "source": [
    "listPrompts, listImages = [], []\n",
    "\n",
    "for i in top_images:\n",
    "    listPrompts.append(i)\n",
    "    image = Image.open(path + '/' + i)\n",
    "    listImages.append(image)\n",
    "\n",
    "listImages = np.array(listImages)\n",
    "\n",
    "clip_score_fn = partial(clip_score, model_name_or_path=\"openai/clip-vit-base-patch16\")\n",
    "\n",
    "sd_clip_score = calculate_clip_score(listImages, listPrompts)\n",
    "print(f\"CLIP score: {sd_clip_score}\")"
   ]
  },
  {
   "cell_type": "markdown",
   "metadata": {},
   "source": [
    "## Stable Diffusion 1"
   ]
  },
  {
   "cell_type": "markdown",
   "metadata": {},
   "source": [
    "### Sweatshirt"
   ]
  },
  {
   "cell_type": "code",
   "execution_count": 17,
   "metadata": {},
   "outputs": [],
   "source": [
    "path = \"imagesCLIP/ropa/SD-1/sweatshirt\"\n",
    "sweatshirt_images = [f for f in os.listdir(path) if os.path.isfile(os.path.join(path, f))]"
   ]
  },
  {
   "cell_type": "code",
   "execution_count": 18,
   "metadata": {},
   "outputs": [
    {
     "name": "stdout",
     "output_type": "stream",
     "text": [
      "CLIP score: 32.1279\n"
     ]
    }
   ],
   "source": [
    "listPrompts, listImages = [], []\n",
    "\n",
    "for i in sweatshirt_images:\n",
    "    listPrompts.append(i)\n",
    "    image = Image.open(path + '/' + i)\n",
    "    listImages.append(image)\n",
    "\n",
    "listImages = np.array(listImages)\n",
    "\n",
    "clip_score_fn = partial(clip_score, model_name_or_path=\"openai/clip-vit-base-patch16\")\n",
    "\n",
    "sd_clip_score = calculate_clip_score(listImages, listPrompts)\n",
    "print(f\"CLIP score: {sd_clip_score}\")"
   ]
  },
  {
   "cell_type": "markdown",
   "metadata": {},
   "source": [
    "### T-shirt"
   ]
  },
  {
   "cell_type": "code",
   "execution_count": 20,
   "metadata": {},
   "outputs": [],
   "source": [
    "path = \"imagesCLIP/ropa/SD-1/t-shirt\"\n",
    "tshirt_images = [f for f in os.listdir(path) if os.path.isfile(os.path.join(path, f))]"
   ]
  },
  {
   "cell_type": "code",
   "execution_count": 21,
   "metadata": {},
   "outputs": [
    {
     "name": "stdout",
     "output_type": "stream",
     "text": [
      "CLIP score: 30.2263\n"
     ]
    }
   ],
   "source": [
    "listPrompts, listImages = [], []\n",
    "\n",
    "for i in tshirt_images:\n",
    "    listPrompts.append(i)\n",
    "    image = Image.open(path + '/' + i)\n",
    "    listImages.append(image)\n",
    "\n",
    "listImages = np.array(listImages)\n",
    "\n",
    "clip_score_fn = partial(clip_score, model_name_or_path=\"openai/clip-vit-base-patch16\")\n",
    "\n",
    "sd_clip_score = calculate_clip_score(listImages, listPrompts)\n",
    "print(f\"CLIP score: {sd_clip_score}\")"
   ]
  },
  {
   "cell_type": "markdown",
   "metadata": {},
   "source": [
    "### Top"
   ]
  },
  {
   "cell_type": "code",
   "execution_count": 22,
   "metadata": {},
   "outputs": [],
   "source": [
    "path = \"imagesCLIP/ropa/SD-1/top\"\n",
    "top_images = [f for f in os.listdir(path) if os.path.isfile(os.path.join(path, f))]"
   ]
  },
  {
   "cell_type": "code",
   "execution_count": 23,
   "metadata": {},
   "outputs": [
    {
     "name": "stdout",
     "output_type": "stream",
     "text": [
      "CLIP score: 28.3432\n"
     ]
    }
   ],
   "source": [
    "listPrompts, listImages = [], []\n",
    "\n",
    "for i in top_images:\n",
    "    listPrompts.append(i)\n",
    "    image = Image.open(path + '/' + i)\n",
    "    listImages.append(image)\n",
    "\n",
    "listImages = np.array(listImages)\n",
    "\n",
    "clip_score_fn = partial(clip_score, model_name_or_path=\"openai/clip-vit-base-patch16\")\n",
    "\n",
    "sd_clip_score = calculate_clip_score(listImages, listPrompts)\n",
    "print(f\"CLIP score: {sd_clip_score}\")"
   ]
  },
  {
   "cell_type": "code",
   "execution_count": null,
   "metadata": {},
   "outputs": [],
   "source": []
  },
  {
   "cell_type": "markdown",
   "metadata": {},
   "source": [
    "# Professions"
   ]
  },
  {
   "cell_type": "markdown",
   "metadata": {},
   "source": [
    "## Stable Diffusion 1.5"
   ]
  },
  {
   "cell_type": "code",
   "execution_count": 5,
   "metadata": {},
   "outputs": [
    {
     "name": "stdout",
     "output_type": "stream",
     "text": [
      "CLIP score: 31.86\n"
     ]
    }
   ],
   "source": [
    "path = \"imagesCLIP/professions/chef-1-5/\"\n",
    "generated_images = [f for f in os.listdir(path) if os.path.isfile(os.path.join(path, f))]\n",
    "\n",
    "listPrompts, listImages = [], []\n",
    "\n",
    "for i in generated_images:\n",
    "    listPrompts.append(i)\n",
    "    image = Image.open(path + '/' + i)\n",
    "    listImages.append(image)\n",
    "\n",
    "listImages = np.array(listImages)\n",
    "\n",
    "clip_score_fn = partial(clip_score, model_name_or_path=\"openai/clip-vit-base-patch16\")\n",
    "\n",
    "sd_clip_score = calculate_clip_score(listImages, listPrompts)\n",
    "print(f\"CLIP score: {sd_clip_score}\")"
   ]
  },
  {
   "cell_type": "code",
   "execution_count": 6,
   "metadata": {},
   "outputs": [
    {
     "name": "stdout",
     "output_type": "stream",
     "text": [
      "CLIP score: 30.4892\n"
     ]
    }
   ],
   "source": [
    "path = \"imagesCLIP/professions/doctor-1-5/\"\n",
    "generated_images = [f for f in os.listdir(path) if os.path.isfile(os.path.join(path, f))]\n",
    "\n",
    "listPrompts, listImages = [], []\n",
    "\n",
    "for i in generated_images:\n",
    "    listPrompts.append(i)\n",
    "    image = Image.open(path + '/' + i)\n",
    "    listImages.append(image)\n",
    "\n",
    "listImages = np.array(listImages)\n",
    "\n",
    "clip_score_fn = partial(clip_score, model_name_or_path=\"openai/clip-vit-base-patch16\")\n",
    "\n",
    "sd_clip_score = calculate_clip_score(listImages, listPrompts)\n",
    "print(f\"CLIP score: {sd_clip_score}\")"
   ]
  },
  {
   "cell_type": "code",
   "execution_count": 8,
   "metadata": {},
   "outputs": [
    {
     "name": "stdout",
     "output_type": "stream",
     "text": [
      "CLIP score: 29.7082\n"
     ]
    }
   ],
   "source": [
    "path = \"imagesCLIP/professions/firefighter-1-5/\"\n",
    "generated_images = [f for f in os.listdir(path) if os.path.isfile(os.path.join(path, f))]\n",
    "\n",
    "listPrompts, listImages = [], []\n",
    "\n",
    "for i in generated_images:\n",
    "    listPrompts.append(i)\n",
    "    image = Image.open(path + '/' + i)\n",
    "    listImages.append(image)\n",
    "\n",
    "listImages = np.array(listImages)\n",
    "\n",
    "clip_score_fn = partial(clip_score, model_name_or_path=\"openai/clip-vit-base-patch16\")\n",
    "\n",
    "sd_clip_score = calculate_clip_score(listImages, listPrompts)\n",
    "print(f\"CLIP score: {sd_clip_score}\")"
   ]
  },
  {
   "cell_type": "code",
   "execution_count": 9,
   "metadata": {},
   "outputs": [
    {
     "name": "stdout",
     "output_type": "stream",
     "text": [
      "CLIP score: 25.8665\n"
     ]
    }
   ],
   "source": [
    "path = \"imagesCLIP/professions/journalist-1-5/\"\n",
    "generated_images = [f for f in os.listdir(path) if os.path.isfile(os.path.join(path, f))]\n",
    "\n",
    "listPrompts, listImages = [], []\n",
    "\n",
    "for i in generated_images:\n",
    "    listPrompts.append(i)\n",
    "    image = Image.open(path + '/' + i)\n",
    "    listImages.append(image)\n",
    "\n",
    "listImages = np.array(listImages)\n",
    "\n",
    "clip_score_fn = partial(clip_score, model_name_or_path=\"openai/clip-vit-base-patch16\")\n",
    "\n",
    "sd_clip_score = calculate_clip_score(listImages, listPrompts)\n",
    "print(f\"CLIP score: {sd_clip_score}\")"
   ]
  },
  {
   "cell_type": "code",
   "execution_count": 10,
   "metadata": {},
   "outputs": [
    {
     "name": "stdout",
     "output_type": "stream",
     "text": [
      "CLIP score: 31.9079\n"
     ]
    }
   ],
   "source": [
    "path = \"imagesCLIP/professions/police-1-5/\"\n",
    "generated_images = [f for f in os.listdir(path) if os.path.isfile(os.path.join(path, f))]\n",
    "\n",
    "listPrompts, listImages = [], []\n",
    "\n",
    "for i in generated_images:\n",
    "    listPrompts.append(i)\n",
    "    image = Image.open(path + '/' + i)\n",
    "    listImages.append(image)\n",
    "\n",
    "listImages = np.array(listImages)\n",
    "\n",
    "clip_score_fn = partial(clip_score, model_name_or_path=\"openai/clip-vit-base-patch16\")\n",
    "\n",
    "sd_clip_score = calculate_clip_score(listImages, listPrompts)\n",
    "print(f\"CLIP score: {sd_clip_score}\")"
   ]
  },
  {
   "cell_type": "code",
   "execution_count": 11,
   "metadata": {},
   "outputs": [
    {
     "name": "stdout",
     "output_type": "stream",
     "text": [
      "CLIP score: 28.9637\n"
     ]
    }
   ],
   "source": [
    "path = \"imagesCLIP/professions/teacher-1-5/\"\n",
    "generated_images = [f for f in os.listdir(path) if os.path.isfile(os.path.join(path, f))]\n",
    "\n",
    "listPrompts, listImages = [], []\n",
    "\n",
    "for i in generated_images:\n",
    "    listPrompts.append(i)\n",
    "    image = Image.open(path + '/' + i)\n",
    "    listImages.append(image)\n",
    "\n",
    "listImages = np.array(listImages)\n",
    "\n",
    "clip_score_fn = partial(clip_score, model_name_or_path=\"openai/clip-vit-base-patch16\")\n",
    "\n",
    "sd_clip_score = calculate_clip_score(listImages, listPrompts)\n",
    "print(f\"CLIP score: {sd_clip_score}\")"
   ]
  },
  {
   "cell_type": "code",
   "execution_count": null,
   "metadata": {},
   "outputs": [],
   "source": []
  },
  {
   "cell_type": "markdown",
   "metadata": {},
   "source": [
    "## Stable Diffusion 2.1"
   ]
  },
  {
   "cell_type": "code",
   "execution_count": 12,
   "metadata": {},
   "outputs": [
    {
     "name": "stdout",
     "output_type": "stream",
     "text": [
      "CLIP score: 33.0083\n"
     ]
    }
   ],
   "source": [
    "path = \"imagesCLIP/professions/chef-2-1/\"\n",
    "generated_images = [f for f in os.listdir(path) if os.path.isfile(os.path.join(path, f))]\n",
    "\n",
    "listPrompts, listImages = [], []\n",
    "\n",
    "for i in generated_images:\n",
    "    listPrompts.append(i)\n",
    "    image = Image.open(path + '/' + i)\n",
    "    listImages.append(image)\n",
    "\n",
    "listImages = np.array(listImages)\n",
    "\n",
    "clip_score_fn = partial(clip_score, model_name_or_path=\"openai/clip-vit-base-patch16\")\n",
    "\n",
    "sd_clip_score = calculate_clip_score(listImages, listPrompts)\n",
    "print(f\"CLIP score: {sd_clip_score}\")"
   ]
  },
  {
   "cell_type": "code",
   "execution_count": 13,
   "metadata": {},
   "outputs": [
    {
     "name": "stdout",
     "output_type": "stream",
     "text": [
      "CLIP score: 28.8837\n"
     ]
    }
   ],
   "source": [
    "path = \"imagesCLIP/professions/doctor-2-1/\"\n",
    "generated_images = [f for f in os.listdir(path) if os.path.isfile(os.path.join(path, f))]\n",
    "\n",
    "listPrompts, listImages = [], []\n",
    "\n",
    "for i in generated_images:\n",
    "    listPrompts.append(i)\n",
    "    image = Image.open(path + '/' + i)\n",
    "    listImages.append(image)\n",
    "\n",
    "listImages = np.array(listImages)\n",
    "\n",
    "clip_score_fn = partial(clip_score, model_name_or_path=\"openai/clip-vit-base-patch16\")\n",
    "\n",
    "sd_clip_score = calculate_clip_score(listImages, listPrompts)\n",
    "print(f\"CLIP score: {sd_clip_score}\")"
   ]
  },
  {
   "cell_type": "code",
   "execution_count": 14,
   "metadata": {},
   "outputs": [
    {
     "name": "stdout",
     "output_type": "stream",
     "text": [
      "CLIP score: 30.1948\n"
     ]
    }
   ],
   "source": [
    "path = \"imagesCLIP/professions/firefighter-2-1/\"\n",
    "generated_images = [f for f in os.listdir(path) if os.path.isfile(os.path.join(path, f))]\n",
    "\n",
    "listPrompts, listImages = [], []\n",
    "\n",
    "for i in generated_images:\n",
    "    listPrompts.append(i)\n",
    "    image = Image.open(path + '/' + i)\n",
    "    listImages.append(image)\n",
    "\n",
    "listImages = np.array(listImages)\n",
    "\n",
    "clip_score_fn = partial(clip_score, model_name_or_path=\"openai/clip-vit-base-patch16\")\n",
    "\n",
    "sd_clip_score = calculate_clip_score(listImages, listPrompts)\n",
    "print(f\"CLIP score: {sd_clip_score}\")"
   ]
  },
  {
   "cell_type": "code",
   "execution_count": 15,
   "metadata": {},
   "outputs": [
    {
     "name": "stdout",
     "output_type": "stream",
     "text": [
      "CLIP score: 24.6799\n"
     ]
    }
   ],
   "source": [
    "path = \"imagesCLIP/professions/journalist-2-1/\"\n",
    "generated_images = [f for f in os.listdir(path) if os.path.isfile(os.path.join(path, f))]\n",
    "\n",
    "listPrompts, listImages = [], []\n",
    "\n",
    "for i in generated_images:\n",
    "    listPrompts.append(i)\n",
    "    image = Image.open(path + '/' + i)\n",
    "    listImages.append(image)\n",
    "\n",
    "listImages = np.array(listImages)\n",
    "\n",
    "clip_score_fn = partial(clip_score, model_name_or_path=\"openai/clip-vit-base-patch16\")\n",
    "\n",
    "sd_clip_score = calculate_clip_score(listImages, listPrompts)\n",
    "print(f\"CLIP score: {sd_clip_score}\")"
   ]
  },
  {
   "cell_type": "code",
   "execution_count": 16,
   "metadata": {},
   "outputs": [
    {
     "name": "stdout",
     "output_type": "stream",
     "text": [
      "CLIP score: 31.0422\n"
     ]
    }
   ],
   "source": [
    "path = \"imagesCLIP/professions/police-2-1/\"\n",
    "generated_images = [f for f in os.listdir(path) if os.path.isfile(os.path.join(path, f))]\n",
    "\n",
    "listPrompts, listImages = [], []\n",
    "\n",
    "for i in generated_images:\n",
    "    listPrompts.append(i)\n",
    "    image = Image.open(path + '/' + i)\n",
    "    listImages.append(image)\n",
    "\n",
    "listImages = np.array(listImages)\n",
    "\n",
    "clip_score_fn = partial(clip_score, model_name_or_path=\"openai/clip-vit-base-patch16\")\n",
    "\n",
    "sd_clip_score = calculate_clip_score(listImages, listPrompts)\n",
    "print(f\"CLIP score: {sd_clip_score}\")"
   ]
  },
  {
   "cell_type": "code",
   "execution_count": 17,
   "metadata": {},
   "outputs": [
    {
     "name": "stdout",
     "output_type": "stream",
     "text": [
      "CLIP score: 28.442\n"
     ]
    }
   ],
   "source": [
    "path = \"imagesCLIP/professions/teacher-2-1/\"\n",
    "generated_images = [f for f in os.listdir(path) if os.path.isfile(os.path.join(path, f))]\n",
    "\n",
    "listPrompts, listImages = [], []\n",
    "\n",
    "for i in generated_images:\n",
    "    listPrompts.append(i)\n",
    "    image = Image.open(path + '/' + i)\n",
    "    listImages.append(image)\n",
    "\n",
    "listImages = np.array(listImages)\n",
    "\n",
    "clip_score_fn = partial(clip_score, model_name_or_path=\"openai/clip-vit-base-patch16\")\n",
    "\n",
    "sd_clip_score = calculate_clip_score(listImages, listPrompts)\n",
    "print(f\"CLIP score: {sd_clip_score}\")"
   ]
  },
  {
   "cell_type": "code",
   "execution_count": null,
   "metadata": {},
   "outputs": [],
   "source": []
  },
  {
   "cell_type": "markdown",
   "metadata": {},
   "source": [
    "## Stable Diffusion 1"
   ]
  },
  {
   "cell_type": "code",
   "execution_count": 18,
   "metadata": {},
   "outputs": [
    {
     "name": "stdout",
     "output_type": "stream",
     "text": [
      "CLIP score: 32.7147\n"
     ]
    }
   ],
   "source": [
    "path = \"imagesCLIP/professions/chef-1/\"\n",
    "generated_images = [f for f in os.listdir(path) if os.path.isfile(os.path.join(path, f))]\n",
    "\n",
    "listPrompts, listImages = [], []\n",
    "\n",
    "for i in generated_images:\n",
    "    listPrompts.append(i)\n",
    "    image = Image.open(path + '/' + i)\n",
    "    listImages.append(image)\n",
    "\n",
    "listImages = np.array(listImages)\n",
    "\n",
    "clip_score_fn = partial(clip_score, model_name_or_path=\"openai/clip-vit-base-patch16\")\n",
    "\n",
    "sd_clip_score = calculate_clip_score(listImages, listPrompts)\n",
    "print(f\"CLIP score: {sd_clip_score}\")"
   ]
  },
  {
   "cell_type": "code",
   "execution_count": 19,
   "metadata": {},
   "outputs": [
    {
     "name": "stdout",
     "output_type": "stream",
     "text": [
      "CLIP score: 29.7488\n"
     ]
    }
   ],
   "source": [
    "path = \"imagesCLIP/professions/doctor-1/\"\n",
    "generated_images = [f for f in os.listdir(path) if os.path.isfile(os.path.join(path, f))]\n",
    "\n",
    "listPrompts, listImages = [], []\n",
    "\n",
    "for i in generated_images:\n",
    "    listPrompts.append(i)\n",
    "    image = Image.open(path + '/' + i)\n",
    "    listImages.append(image)\n",
    "\n",
    "listImages = np.array(listImages)\n",
    "\n",
    "clip_score_fn = partial(clip_score, model_name_or_path=\"openai/clip-vit-base-patch16\")\n",
    "\n",
    "sd_clip_score = calculate_clip_score(listImages, listPrompts)\n",
    "print(f\"CLIP score: {sd_clip_score}\")"
   ]
  },
  {
   "cell_type": "code",
   "execution_count": 20,
   "metadata": {},
   "outputs": [
    {
     "name": "stdout",
     "output_type": "stream",
     "text": [
      "CLIP score: 28.6838\n"
     ]
    }
   ],
   "source": [
    "path = \"imagesCLIP/professions/firefighter-1/\"\n",
    "generated_images = [f for f in os.listdir(path) if os.path.isfile(os.path.join(path, f))]\n",
    "\n",
    "listPrompts, listImages = [], []\n",
    "\n",
    "for i in generated_images:\n",
    "    listPrompts.append(i)\n",
    "    image = Image.open(path + '/' + i)\n",
    "    listImages.append(image)\n",
    "\n",
    "listImages = np.array(listImages)\n",
    "\n",
    "clip_score_fn = partial(clip_score, model_name_or_path=\"openai/clip-vit-base-patch16\")\n",
    "\n",
    "sd_clip_score = calculate_clip_score(listImages, listPrompts)\n",
    "print(f\"CLIP score: {sd_clip_score}\")"
   ]
  },
  {
   "cell_type": "code",
   "execution_count": 21,
   "metadata": {},
   "outputs": [
    {
     "name": "stdout",
     "output_type": "stream",
     "text": [
      "CLIP score: 25.2493\n"
     ]
    }
   ],
   "source": [
    "path = \"imagesCLIP/professions/journalist-1/\"\n",
    "generated_images = [f for f in os.listdir(path) if os.path.isfile(os.path.join(path, f))]\n",
    "\n",
    "listPrompts, listImages = [], []\n",
    "\n",
    "for i in generated_images:\n",
    "    listPrompts.append(i)\n",
    "    image = Image.open(path + '/' + i)\n",
    "    listImages.append(image)\n",
    "\n",
    "listImages = np.array(listImages)\n",
    "\n",
    "clip_score_fn = partial(clip_score, model_name_or_path=\"openai/clip-vit-base-patch16\")\n",
    "\n",
    "sd_clip_score = calculate_clip_score(listImages, listPrompts)\n",
    "print(f\"CLIP score: {sd_clip_score}\")"
   ]
  },
  {
   "cell_type": "code",
   "execution_count": 22,
   "metadata": {},
   "outputs": [
    {
     "name": "stdout",
     "output_type": "stream",
     "text": [
      "CLIP score: 31.4741\n"
     ]
    }
   ],
   "source": [
    "path = \"imagesCLIP/professions/police-1/\"\n",
    "generated_images = [f for f in os.listdir(path) if os.path.isfile(os.path.join(path, f))]\n",
    "\n",
    "listPrompts, listImages = [], []\n",
    "\n",
    "for i in generated_images:\n",
    "    listPrompts.append(i)\n",
    "    image = Image.open(path + '/' + i)\n",
    "    listImages.append(image)\n",
    "\n",
    "listImages = np.array(listImages)\n",
    "\n",
    "clip_score_fn = partial(clip_score, model_name_or_path=\"openai/clip-vit-base-patch16\")\n",
    "\n",
    "sd_clip_score = calculate_clip_score(listImages, listPrompts)\n",
    "print(f\"CLIP score: {sd_clip_score}\")"
   ]
  },
  {
   "cell_type": "code",
   "execution_count": 23,
   "metadata": {},
   "outputs": [
    {
     "name": "stdout",
     "output_type": "stream",
     "text": [
      "CLIP score: 28.2592\n"
     ]
    }
   ],
   "source": [
    "path = \"imagesCLIP/professions/teacher-1/\"\n",
    "generated_images = [f for f in os.listdir(path) if os.path.isfile(os.path.join(path, f))]\n",
    "\n",
    "listPrompts, listImages = [], []\n",
    "\n",
    "for i in generated_images:\n",
    "    listPrompts.append(i)\n",
    "    image = Image.open(path + '/' + i)\n",
    "    listImages.append(image)\n",
    "\n",
    "listImages = np.array(listImages)\n",
    "\n",
    "clip_score_fn = partial(clip_score, model_name_or_path=\"openai/clip-vit-base-patch16\")\n",
    "\n",
    "sd_clip_score = calculate_clip_score(listImages, listPrompts)\n",
    "print(f\"CLIP score: {sd_clip_score}\")"
   ]
  },
  {
   "cell_type": "code",
   "execution_count": null,
   "metadata": {},
   "outputs": [],
   "source": []
  },
  {
   "cell_type": "markdown",
   "metadata": {},
   "source": [
    "# Objects"
   ]
  },
  {
   "cell_type": "markdown",
   "metadata": {},
   "source": [
    "## Stable Diffusion 1.5"
   ]
  },
  {
   "cell_type": "code",
   "execution_count": 4,
   "metadata": {},
   "outputs": [
    {
     "name": "stdout",
     "output_type": "stream",
     "text": [
      "CLIP score: 28.6999\n"
     ]
    }
   ],
   "source": [
    "path = \"imagesCLIP/objects/libro-1-5/\"\n",
    "generated_images = [f for f in os.listdir(path) if os.path.isfile(os.path.join(path, f))]\n",
    "\n",
    "listPrompts, listImages = [], []\n",
    "\n",
    "for i in generated_images:\n",
    "    listPrompts.append(i)\n",
    "    image = Image.open(path + '/' + i)\n",
    "    listImages.append(image)\n",
    "\n",
    "listImages = np.array(listImages)\n",
    "\n",
    "clip_score_fn = partial(clip_score, model_name_or_path=\"openai/clip-vit-base-patch16\")\n",
    "\n",
    "sd_clip_score = calculate_clip_score(listImages, listPrompts)\n",
    "print(f\"CLIP score: {sd_clip_score}\")"
   ]
  },
  {
   "cell_type": "code",
   "execution_count": 5,
   "metadata": {},
   "outputs": [
    {
     "name": "stdout",
     "output_type": "stream",
     "text": [
      "CLIP score: 29.9075\n"
     ]
    }
   ],
   "source": [
    "path = \"imagesCLIP/objects/plancha-1-5/\"\n",
    "generated_images = [f for f in os.listdir(path) if os.path.isfile(os.path.join(path, f))]\n",
    "\n",
    "listPrompts, listImages = [], []\n",
    "\n",
    "for i in generated_images:\n",
    "    listPrompts.append(i)\n",
    "    image = Image.open(path + '/' + i)\n",
    "    listImages.append(image)\n",
    "\n",
    "listImages = np.array(listImages)\n",
    "\n",
    "clip_score_fn = partial(clip_score, model_name_or_path=\"openai/clip-vit-base-patch16\")\n",
    "\n",
    "sd_clip_score = calculate_clip_score(listImages, listPrompts)\n",
    "print(f\"CLIP score: {sd_clip_score}\")"
   ]
  },
  {
   "cell_type": "code",
   "execution_count": 6,
   "metadata": {},
   "outputs": [
    {
     "name": "stdout",
     "output_type": "stream",
     "text": [
      "CLIP score: 26.0721\n"
     ]
    }
   ],
   "source": [
    "path = \"imagesCLIP/objects/raton-1-5/\"\n",
    "generated_images = [f for f in os.listdir(path) if os.path.isfile(os.path.join(path, f))]\n",
    "\n",
    "listPrompts, listImages = [], []\n",
    "\n",
    "for i in generated_images:\n",
    "    listPrompts.append(i)\n",
    "    image = Image.open(path + '/' + i)\n",
    "    listImages.append(image)\n",
    "\n",
    "listImages = np.array(listImages)\n",
    "\n",
    "clip_score_fn = partial(clip_score, model_name_or_path=\"openai/clip-vit-base-patch16\")\n",
    "\n",
    "sd_clip_score = calculate_clip_score(listImages, listPrompts)\n",
    "print(f\"CLIP score: {sd_clip_score}\")"
   ]
  },
  {
   "cell_type": "code",
   "execution_count": 7,
   "metadata": {},
   "outputs": [
    {
     "name": "stdout",
     "output_type": "stream",
     "text": [
      "CLIP score: 31.0219\n"
     ]
    }
   ],
   "source": [
    "path = \"imagesCLIP/objects/silla-1-5/\"\n",
    "generated_images = [f for f in os.listdir(path) if os.path.isfile(os.path.join(path, f))]\n",
    "\n",
    "listPrompts, listImages = [], []\n",
    "\n",
    "for i in generated_images:\n",
    "    listPrompts.append(i)\n",
    "    image = Image.open(path + '/' + i)\n",
    "    listImages.append(image)\n",
    "\n",
    "listImages = np.array(listImages)\n",
    "\n",
    "clip_score_fn = partial(clip_score, model_name_or_path=\"openai/clip-vit-base-patch16\")\n",
    "\n",
    "sd_clip_score = calculate_clip_score(listImages, listPrompts)\n",
    "print(f\"CLIP score: {sd_clip_score}\")"
   ]
  },
  {
   "cell_type": "code",
   "execution_count": 8,
   "metadata": {},
   "outputs": [
    {
     "name": "stdout",
     "output_type": "stream",
     "text": [
      "CLIP score: 32.8622\n"
     ]
    }
   ],
   "source": [
    "path = \"imagesCLIP/objects/taza-1-5/\"\n",
    "generated_images = [f for f in os.listdir(path) if os.path.isfile(os.path.join(path, f))]\n",
    "\n",
    "listPrompts, listImages = [], []\n",
    "\n",
    "for i in generated_images:\n",
    "    listPrompts.append(i)\n",
    "    image = Image.open(path + '/' + i)\n",
    "    listImages.append(image)\n",
    "\n",
    "listImages = np.array(listImages)\n",
    "\n",
    "clip_score_fn = partial(clip_score, model_name_or_path=\"openai/clip-vit-base-patch16\")\n",
    "\n",
    "sd_clip_score = calculate_clip_score(listImages, listPrompts)\n",
    "print(f\"CLIP score: {sd_clip_score}\")"
   ]
  },
  {
   "cell_type": "code",
   "execution_count": 3,
   "metadata": {},
   "outputs": [
    {
     "name": "stdout",
     "output_type": "stream",
     "text": [
      "CLIP score: 35.0693\n"
     ]
    }
   ],
   "source": [
    "path = \"imagesCLIP/objects/tetera-1-5/\"\n",
    "generated_images = [f for f in os.listdir(path) if os.path.isfile(os.path.join(path, f))]\n",
    "\n",
    "listPrompts, listImages = [], []\n",
    "\n",
    "for i in generated_images:\n",
    "    listPrompts.append(i)\n",
    "    image = Image.open(path + '/' + i)\n",
    "    listImages.append(image)\n",
    "\n",
    "listImages = np.array(listImages)\n",
    "\n",
    "clip_score_fn = partial(clip_score, model_name_or_path=\"openai/clip-vit-base-patch16\")\n",
    "\n",
    "sd_clip_score = calculate_clip_score(listImages, listPrompts)\n",
    "print(f\"CLIP score: {sd_clip_score}\")"
   ]
  },
  {
   "cell_type": "markdown",
   "metadata": {},
   "source": [
    "## Stable Diffusion 2.1"
   ]
  },
  {
   "cell_type": "code",
   "execution_count": 9,
   "metadata": {},
   "outputs": [
    {
     "name": "stdout",
     "output_type": "stream",
     "text": [
      "CLIP score: 27.8871\n"
     ]
    }
   ],
   "source": [
    "path = \"imagesCLIP/objects/libro-2-1/\"\n",
    "generated_images = [f for f in os.listdir(path) if os.path.isfile(os.path.join(path, f))]\n",
    "\n",
    "listPrompts, listImages = [], []\n",
    "\n",
    "for i in generated_images:\n",
    "    listPrompts.append(i)\n",
    "    image = Image.open(path + '/' + i)\n",
    "    listImages.append(image)\n",
    "\n",
    "listImages = np.array(listImages)\n",
    "\n",
    "clip_score_fn = partial(clip_score, model_name_or_path=\"openai/clip-vit-base-patch16\")\n",
    "\n",
    "sd_clip_score = calculate_clip_score(listImages, listPrompts)\n",
    "print(f\"CLIP score: {sd_clip_score}\")"
   ]
  },
  {
   "cell_type": "code",
   "execution_count": 10,
   "metadata": {},
   "outputs": [
    {
     "name": "stdout",
     "output_type": "stream",
     "text": [
      "CLIP score: 27.8188\n"
     ]
    }
   ],
   "source": [
    "path = \"imagesCLIP/objects/plancha-2-1/\"\n",
    "generated_images = [f for f in os.listdir(path) if os.path.isfile(os.path.join(path, f))]\n",
    "\n",
    "listPrompts, listImages = [], []\n",
    "\n",
    "for i in generated_images:\n",
    "    listPrompts.append(i)\n",
    "    image = Image.open(path + '/' + i)\n",
    "    listImages.append(image)\n",
    "\n",
    "listImages = np.array(listImages)\n",
    "\n",
    "clip_score_fn = partial(clip_score, model_name_or_path=\"openai/clip-vit-base-patch16\")\n",
    "\n",
    "sd_clip_score = calculate_clip_score(listImages, listPrompts)\n",
    "print(f\"CLIP score: {sd_clip_score}\")"
   ]
  },
  {
   "cell_type": "code",
   "execution_count": 11,
   "metadata": {},
   "outputs": [
    {
     "name": "stdout",
     "output_type": "stream",
     "text": [
      "CLIP score: 28.967\n"
     ]
    }
   ],
   "source": [
    "path = \"imagesCLIP/objects/raton-2-1/\"\n",
    "generated_images = [f for f in os.listdir(path) if os.path.isfile(os.path.join(path, f))]\n",
    "\n",
    "listPrompts, listImages = [], []\n",
    "\n",
    "for i in generated_images:\n",
    "    listPrompts.append(i)\n",
    "    image = Image.open(path + '/' + i)\n",
    "    listImages.append(image)\n",
    "\n",
    "listImages = np.array(listImages)\n",
    "\n",
    "clip_score_fn = partial(clip_score, model_name_or_path=\"openai/clip-vit-base-patch16\")\n",
    "\n",
    "sd_clip_score = calculate_clip_score(listImages, listPrompts)\n",
    "print(f\"CLIP score: {sd_clip_score}\")"
   ]
  },
  {
   "cell_type": "code",
   "execution_count": 12,
   "metadata": {},
   "outputs": [
    {
     "name": "stdout",
     "output_type": "stream",
     "text": [
      "CLIP score: 32.1416\n"
     ]
    }
   ],
   "source": [
    "path = \"imagesCLIP/objects/silla-2-1/\"\n",
    "generated_images = [f for f in os.listdir(path) if os.path.isfile(os.path.join(path, f))]\n",
    "\n",
    "listPrompts, listImages = [], []\n",
    "\n",
    "for i in generated_images:\n",
    "    listPrompts.append(i)\n",
    "    image = Image.open(path + '/' + i)\n",
    "    listImages.append(image)\n",
    "\n",
    "listImages = np.array(listImages)\n",
    "\n",
    "clip_score_fn = partial(clip_score, model_name_or_path=\"openai/clip-vit-base-patch16\")\n",
    "\n",
    "sd_clip_score = calculate_clip_score(listImages, listPrompts)\n",
    "print(f\"CLIP score: {sd_clip_score}\")"
   ]
  },
  {
   "cell_type": "code",
   "execution_count": 13,
   "metadata": {},
   "outputs": [
    {
     "name": "stdout",
     "output_type": "stream",
     "text": [
      "CLIP score: 32.6718\n"
     ]
    }
   ],
   "source": [
    "path = \"imagesCLIP/objects/taza-2-1/\"\n",
    "generated_images = [f for f in os.listdir(path) if os.path.isfile(os.path.join(path, f))]\n",
    "\n",
    "listPrompts, listImages = [], []\n",
    "\n",
    "for i in generated_images:\n",
    "    listPrompts.append(i)\n",
    "    image = Image.open(path + '/' + i)\n",
    "    listImages.append(image)\n",
    "\n",
    "listImages = np.array(listImages)\n",
    "\n",
    "clip_score_fn = partial(clip_score, model_name_or_path=\"openai/clip-vit-base-patch16\")\n",
    "\n",
    "sd_clip_score = calculate_clip_score(listImages, listPrompts)\n",
    "print(f\"CLIP score: {sd_clip_score}\")"
   ]
  },
  {
   "cell_type": "code",
   "execution_count": 4,
   "metadata": {},
   "outputs": [
    {
     "name": "stdout",
     "output_type": "stream",
     "text": [
      "CLIP score: 35.6432\n"
     ]
    }
   ],
   "source": [
    "path = \"imagesCLIP/objects/tetera-2-1/\"\n",
    "generated_images = [f for f in os.listdir(path) if os.path.isfile(os.path.join(path, f))]\n",
    "\n",
    "listPrompts, listImages = [], []\n",
    "\n",
    "for i in generated_images:\n",
    "    listPrompts.append(i)\n",
    "    image = Image.open(path + '/' + i)\n",
    "    listImages.append(image)\n",
    "\n",
    "listImages = np.array(listImages)\n",
    "\n",
    "clip_score_fn = partial(clip_score, model_name_or_path=\"openai/clip-vit-base-patch16\")\n",
    "\n",
    "sd_clip_score = calculate_clip_score(listImages, listPrompts)\n",
    "print(f\"CLIP score: {sd_clip_score}\")"
   ]
  },
  {
   "cell_type": "markdown",
   "metadata": {},
   "source": [
    "## Stable Diffusion 1"
   ]
  },
  {
   "cell_type": "code",
   "execution_count": 14,
   "metadata": {},
   "outputs": [
    {
     "name": "stdout",
     "output_type": "stream",
     "text": [
      "CLIP score: 27.9485\n"
     ]
    }
   ],
   "source": [
    "path = \"imagesCLIP/objects/libro-1/\"\n",
    "generated_images = [f for f in os.listdir(path) if os.path.isfile(os.path.join(path, f))]\n",
    "\n",
    "listPrompts, listImages = [], []\n",
    "\n",
    "for i in generated_images:\n",
    "    listPrompts.append(i)\n",
    "    image = Image.open(path + '/' + i)\n",
    "    listImages.append(image)\n",
    "\n",
    "listImages = np.array(listImages)\n",
    "\n",
    "clip_score_fn = partial(clip_score, model_name_or_path=\"openai/clip-vit-base-patch16\")\n",
    "\n",
    "sd_clip_score = calculate_clip_score(listImages, listPrompts)\n",
    "print(f\"CLIP score: {sd_clip_score}\")"
   ]
  },
  {
   "cell_type": "code",
   "execution_count": 15,
   "metadata": {},
   "outputs": [
    {
     "name": "stdout",
     "output_type": "stream",
     "text": [
      "CLIP score: 27.737\n"
     ]
    }
   ],
   "source": [
    "path = \"imagesCLIP/objects/plancha-1/\"\n",
    "generated_images = [f for f in os.listdir(path) if os.path.isfile(os.path.join(path, f))]\n",
    "\n",
    "listPrompts, listImages = [], []\n",
    "\n",
    "for i in generated_images:\n",
    "    listPrompts.append(i)\n",
    "    image = Image.open(path + '/' + i)\n",
    "    listImages.append(image)\n",
    "\n",
    "listImages = np.array(listImages)\n",
    "\n",
    "clip_score_fn = partial(clip_score, model_name_or_path=\"openai/clip-vit-base-patch16\")\n",
    "\n",
    "sd_clip_score = calculate_clip_score(listImages, listPrompts)\n",
    "print(f\"CLIP score: {sd_clip_score}\")"
   ]
  },
  {
   "cell_type": "code",
   "execution_count": 16,
   "metadata": {},
   "outputs": [
    {
     "name": "stdout",
     "output_type": "stream",
     "text": [
      "CLIP score: 25.6486\n"
     ]
    }
   ],
   "source": [
    "path = \"imagesCLIP/objects/raton-1/\"\n",
    "generated_images = [f for f in os.listdir(path) if os.path.isfile(os.path.join(path, f))]\n",
    "\n",
    "listPrompts, listImages = [], []\n",
    "\n",
    "for i in generated_images:\n",
    "    listPrompts.append(i)\n",
    "    image = Image.open(path + '/' + i)\n",
    "    listImages.append(image)\n",
    "\n",
    "listImages = np.array(listImages)\n",
    "\n",
    "clip_score_fn = partial(clip_score, model_name_or_path=\"openai/clip-vit-base-patch16\")\n",
    "\n",
    "sd_clip_score = calculate_clip_score(listImages, listPrompts)\n",
    "print(f\"CLIP score: {sd_clip_score}\")"
   ]
  },
  {
   "cell_type": "code",
   "execution_count": 17,
   "metadata": {},
   "outputs": [
    {
     "name": "stdout",
     "output_type": "stream",
     "text": [
      "CLIP score: 30.5428\n"
     ]
    }
   ],
   "source": [
    "path = \"imagesCLIP/objects/silla-1/\"\n",
    "generated_images = [f for f in os.listdir(path) if os.path.isfile(os.path.join(path, f))]\n",
    "\n",
    "listPrompts, listImages = [], []\n",
    "\n",
    "for i in generated_images:\n",
    "    listPrompts.append(i)\n",
    "    image = Image.open(path + '/' + i)\n",
    "    listImages.append(image)\n",
    "\n",
    "listImages = np.array(listImages)\n",
    "\n",
    "clip_score_fn = partial(clip_score, model_name_or_path=\"openai/clip-vit-base-patch16\")\n",
    "\n",
    "sd_clip_score = calculate_clip_score(listImages, listPrompts)\n",
    "print(f\"CLIP score: {sd_clip_score}\")"
   ]
  },
  {
   "cell_type": "code",
   "execution_count": 18,
   "metadata": {},
   "outputs": [
    {
     "name": "stdout",
     "output_type": "stream",
     "text": [
      "CLIP score: 32.6888\n"
     ]
    }
   ],
   "source": [
    "path = \"imagesCLIP/objects/taza-1/\"\n",
    "generated_images = [f for f in os.listdir(path) if os.path.isfile(os.path.join(path, f))]\n",
    "\n",
    "listPrompts, listImages = [], []\n",
    "\n",
    "for i in generated_images:\n",
    "    listPrompts.append(i)\n",
    "    image = Image.open(path + '/' + i)\n",
    "    listImages.append(image)\n",
    "\n",
    "listImages = np.array(listImages)\n",
    "\n",
    "clip_score_fn = partial(clip_score, model_name_or_path=\"openai/clip-vit-base-patch16\")\n",
    "\n",
    "sd_clip_score = calculate_clip_score(listImages, listPrompts)\n",
    "print(f\"CLIP score: {sd_clip_score}\")"
   ]
  },
  {
   "cell_type": "code",
   "execution_count": 5,
   "metadata": {},
   "outputs": [
    {
     "name": "stdout",
     "output_type": "stream",
     "text": [
      "CLIP score: 35.6669\n"
     ]
    }
   ],
   "source": [
    "path = \"imagesCLIP/objects/tetera-1/\"\n",
    "generated_images = [f for f in os.listdir(path) if os.path.isfile(os.path.join(path, f))]\n",
    "\n",
    "listPrompts, listImages = [], []\n",
    "\n",
    "for i in generated_images:\n",
    "    listPrompts.append(i)\n",
    "    image = Image.open(path + '/' + i)\n",
    "    listImages.append(image)\n",
    "\n",
    "listImages = np.array(listImages)\n",
    "\n",
    "clip_score_fn = partial(clip_score, model_name_or_path=\"openai/clip-vit-base-patch16\")\n",
    "\n",
    "sd_clip_score = calculate_clip_score(listImages, listPrompts)\n",
    "print(f\"CLIP score: {sd_clip_score}\")"
   ]
  },
  {
   "cell_type": "code",
   "execution_count": null,
   "metadata": {},
   "outputs": [],
   "source": []
  },
  {
   "cell_type": "code",
   "execution_count": null,
   "metadata": {},
   "outputs": [],
   "source": []
  }
 ],
 "metadata": {
  "kernelspec": {
   "display_name": "Python 3",
   "language": "python",
   "name": "python3"
  },
  "language_info": {
   "codemirror_mode": {
    "name": "ipython",
    "version": 3
   },
   "file_extension": ".py",
   "mimetype": "text/x-python",
   "name": "python",
   "nbconvert_exporter": "python",
   "pygments_lexer": "ipython3",
   "version": "3.11.2"
  },
  "orig_nbformat": 4
 },
 "nbformat": 4,
 "nbformat_minor": 2
}
